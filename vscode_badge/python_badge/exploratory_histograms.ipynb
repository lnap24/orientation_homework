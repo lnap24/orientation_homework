{
 "cells": [
  {
   "cell_type": "code",
   "execution_count": 5,
   "metadata": {},
   "outputs": [
    {
     "name": "stdout",
     "output_type": "stream",
     "text": [
      "/Users/Luke/MSDS/orientation_homework\n"
     ]
    }
   ],
   "source": [
    "import os\n",
    "\n",
    "print(os.getcwd())"
   ]
  },
  {
   "cell_type": "code",
   "execution_count": 6,
   "metadata": {},
   "outputs": [
    {
     "name": "stdout",
     "output_type": "stream",
     "text": [
      "['vscode_badge', 'LICENSE', 'github_badge', 'README.md', 'MSDS-Orientation-Computer-Survey.csv', '.git']\n"
     ]
    }
   ],
   "source": [
    "print(os.listdir())"
   ]
  },
  {
   "cell_type": "code",
   "execution_count": 9,
   "metadata": {},
   "outputs": [
    {
     "name": "stdout",
     "output_type": "stream",
     "text": [
      "         Timestamp What is your uva net id? (e.g. mst3k)  \\\n",
      "0    1/1/1970 0:00                                 mst3k   \n",
      "1  6/12/2021 23:05                                   NaN   \n",
      "2  6/13/2021 20:36                                   NaN   \n",
      "3  6/13/2021 22:31                                   NaN   \n",
      "4  6/14/2021 13:31                                   NaN   \n",
      "\n",
      "  What is your github user name? Operating System  CPU Cycle Rate (in GHz)  \\\n",
      "0                        outlier        Any Linux                    500.0   \n",
      "1                            NaN       Windows 10                      1.8   \n",
      "2                            NaN       Windows 10                      2.8   \n",
      "3                            NaN            MacOS                      3.1   \n",
      "4                            NaN       Windows 10                      3.5   \n",
      "\n",
      "   CPU Number of Cores (int)  RAM (in GB)  Hard Drive Size (in GB)  \\\n",
      "0                         -3          256                        5   \n",
      "1                          4            8                      256   \n",
      "2                          4           16                      460   \n",
      "3                          2            8                      512   \n",
      "4                          4           16                     1000   \n",
      "\n",
      "  GPU (short description as a string)  GPU CUDA Number of Cores (int)  \n",
      "0                           rtx 48000                       6002283.0  \n",
      "1                       intel uhd 620                             NaN  \n",
      "2        Intel(R) Iris(R) Xe Graphics                             NaN  \n",
      "3        Intel Iris Plus Graphics 650                             NaN  \n",
      "4          NVIDIA GeForce GTX 1070 Ti                             NaN  \n",
      "       CPU Cycle Rate (in GHz)  CPU Number of Cores (int)  RAM (in GB)  \\\n",
      "count               383.000000                 383.000000   383.000000   \n",
      "mean                 22.242789                   5.900783    16.908616   \n",
      "std                 179.377572                   3.587438    18.908695   \n",
      "min                   0.940000                  -3.000000     4.000000   \n",
      "25%                   2.000000                   4.000000     8.000000   \n",
      "50%                   2.600000                   4.000000    16.000000   \n",
      "75%                   3.200000                   8.000000    16.000000   \n",
      "max                2133.000000                  24.000000   256.000000   \n",
      "\n",
      "       Hard Drive Size (in GB)  GPU CUDA Number of Cores (int)  \n",
      "count               383.000000                    3.220000e+02  \n",
      "mean                562.091384                    1.913657e+04  \n",
      "std                 646.738600                    3.344697e+05  \n",
      "min                   5.000000                    0.000000e+00  \n",
      "25%                 250.000000                    0.000000e+00  \n",
      "50%                 476.000000                    8.000000e+00  \n",
      "75%                 512.000000                    1.920000e+02  \n",
      "max                8000.000000                    6.002283e+06  \n",
      "<class 'pandas.core.frame.DataFrame'>\n",
      "RangeIndex: 383 entries, 0 to 382\n",
      "Data columns (total 10 columns):\n",
      " #   Column                                 Non-Null Count  Dtype  \n",
      "---  ------                                 --------------  -----  \n",
      " 0   Timestamp                              383 non-null    object \n",
      " 1   What is your uva net id? (e.g. mst3k)  322 non-null    object \n",
      " 2   What is your github user name?         299 non-null    object \n",
      " 3   Operating System                       383 non-null    object \n",
      " 4   CPU Cycle Rate (in GHz)                383 non-null    float64\n",
      " 5   CPU Number of Cores (int)              383 non-null    int64  \n",
      " 6   RAM (in GB)                            383 non-null    int64  \n",
      " 7   Hard Drive Size (in GB)                383 non-null    int64  \n",
      " 8   GPU (short description as a string)    380 non-null    object \n",
      " 9   GPU CUDA Number of Cores (int)         322 non-null    float64\n",
      "dtypes: float64(2), int64(3), object(5)\n",
      "memory usage: 30.0+ KB\n",
      "None\n"
     ]
    }
   ],
   "source": [
    "import pandas as pd\n",
    "file_path = 'MSDS-Orientation-Computer-Survey.csv'\n",
    "data = pd.read_csv(file_path)\n",
    "print(data.head())\n",
    "print(data.describe())\n",
    "print(data.info())"
   ]
  }
 ],
 "metadata": {
  "kernelspec": {
   "display_name": "Python 3",
   "language": "python",
   "name": "python3"
  },
  "language_info": {
   "codemirror_mode": {
    "name": "ipython",
    "version": 3
   },
   "file_extension": ".py",
   "mimetype": "text/x-python",
   "name": "python",
   "nbconvert_exporter": "python",
   "pygments_lexer": "ipython3",
   "version": "3.9.6"
  }
 },
 "nbformat": 4,
 "nbformat_minor": 2
}
